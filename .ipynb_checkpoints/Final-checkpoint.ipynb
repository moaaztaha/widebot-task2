{
 "cells": [
  {
   "cell_type": "code",
   "execution_count": 1,
   "metadata": {},
   "outputs": [],
   "source": [
    "# modules\n",
    "import pandas as pd\n",
    "import numpy as np\n",
    "import os\n",
    "import matplotlib.pyplot as plt\n",
    "%matplotlib inline\n",
    "\n",
    "\n",
    "from sklearn.preprocessing import LabelEncoder\n",
    "from sklearn.preprocessing import OneHotEncoder\n",
    "from sklearn.pipeline import Pipeline\n",
    "from sklearn.impute import SimpleImputer\n",
    "from sklearn.compose import ColumnTransformer\n",
    "from sklearn.preprocessing import StandardScaler\n",
    "\n",
    "from sklearn import metrics\n",
    "from sklearn.metrics import make_scorer, accuracy_score, precision_score\n",
    "from sklearn.model_selection import cross_val_score, GridSearchCV\n",
    "\n",
    "# models\n",
    "from sklearn.svm import SVC, LinearSVC\n",
    "from sklearn.ensemble import RandomForestClassifier\n",
    "from sklearn.linear_model import LogisticRegression\n",
    "from sklearn.neighbors import KNeighborsClassifier\n",
    "from sklearn.naive_bayes import GaussianNB\n",
    "from sklearn.tree import DecisionTreeClassifier"
   ]
  },
  {
   "cell_type": "markdown",
   "metadata": {},
   "source": [
    "# Loading Data "
   ]
  },
  {
   "cell_type": "code",
   "execution_count": 2,
   "metadata": {},
   "outputs": [],
   "source": [
    "DATA_DIR = 'binary_classifier_data/'\n",
    "\n",
    "train_ds = pd.read_csv(os.path.join(DATA_DIR, 'training.csv'), delimiter=';', decimal=',')\n",
    "valid_ds = pd.read_csv(os.path.join(DATA_DIR, 'validation.csv'), delimiter=';', decimal=',')"
   ]
  },
  {
   "cell_type": "code",
   "execution_count": 3,
   "metadata": {},
   "outputs": [
    {
     "data": {
      "text/plain": [
       "((3700, 19), (200, 19))"
      ]
     },
     "execution_count": 3,
     "metadata": {},
     "output_type": "execute_result"
    }
   ],
   "source": [
    "train_ds.shape, valid_ds.shape"
   ]
  },
  {
   "cell_type": "code",
   "execution_count": 4,
   "metadata": {},
   "outputs": [
    {
     "data": {
      "text/html": [
       "<div>\n",
       "<style scoped>\n",
       "    .dataframe tbody tr th:only-of-type {\n",
       "        vertical-align: middle;\n",
       "    }\n",
       "\n",
       "    .dataframe tbody tr th {\n",
       "        vertical-align: top;\n",
       "    }\n",
       "\n",
       "    .dataframe thead th {\n",
       "        text-align: right;\n",
       "    }\n",
       "</style>\n",
       "<table border=\"1\" class=\"dataframe\">\n",
       "  <thead>\n",
       "    <tr style=\"text-align: right;\">\n",
       "      <th></th>\n",
       "      <th>variable1</th>\n",
       "      <th>variable2</th>\n",
       "      <th>variable3</th>\n",
       "      <th>variable4</th>\n",
       "      <th>variable5</th>\n",
       "      <th>variable6</th>\n",
       "      <th>variable7</th>\n",
       "      <th>variable8</th>\n",
       "      <th>variable9</th>\n",
       "      <th>variable10</th>\n",
       "      <th>variable11</th>\n",
       "      <th>variable12</th>\n",
       "      <th>variable13</th>\n",
       "      <th>variable14</th>\n",
       "      <th>variable15</th>\n",
       "      <th>variable17</th>\n",
       "      <th>variable18</th>\n",
       "      <th>variable19</th>\n",
       "      <th>classLabel</th>\n",
       "    </tr>\n",
       "  </thead>\n",
       "  <tbody>\n",
       "    <tr>\n",
       "      <th>0</th>\n",
       "      <td>a</td>\n",
       "      <td>17.92</td>\n",
       "      <td>0.000054</td>\n",
       "      <td>u</td>\n",
       "      <td>g</td>\n",
       "      <td>c</td>\n",
       "      <td>v</td>\n",
       "      <td>1.750</td>\n",
       "      <td>f</td>\n",
       "      <td>t</td>\n",
       "      <td>1</td>\n",
       "      <td>t</td>\n",
       "      <td>g</td>\n",
       "      <td>80.0</td>\n",
       "      <td>5</td>\n",
       "      <td>800000.0</td>\n",
       "      <td>t</td>\n",
       "      <td>0</td>\n",
       "      <td>no.</td>\n",
       "    </tr>\n",
       "    <tr>\n",
       "      <th>1</th>\n",
       "      <td>b</td>\n",
       "      <td>16.92</td>\n",
       "      <td>0.000034</td>\n",
       "      <td>y</td>\n",
       "      <td>p</td>\n",
       "      <td>k</td>\n",
       "      <td>v</td>\n",
       "      <td>0.290</td>\n",
       "      <td>f</td>\n",
       "      <td>f</td>\n",
       "      <td>0</td>\n",
       "      <td>f</td>\n",
       "      <td>s</td>\n",
       "      <td>200.0</td>\n",
       "      <td>0</td>\n",
       "      <td>2000000.0</td>\n",
       "      <td>NaN</td>\n",
       "      <td>0</td>\n",
       "      <td>no.</td>\n",
       "    </tr>\n",
       "    <tr>\n",
       "      <th>2</th>\n",
       "      <td>b</td>\n",
       "      <td>31.25</td>\n",
       "      <td>0.000112</td>\n",
       "      <td>u</td>\n",
       "      <td>g</td>\n",
       "      <td>ff</td>\n",
       "      <td>ff</td>\n",
       "      <td>0.000</td>\n",
       "      <td>f</td>\n",
       "      <td>t</td>\n",
       "      <td>1</td>\n",
       "      <td>f</td>\n",
       "      <td>g</td>\n",
       "      <td>96.0</td>\n",
       "      <td>19</td>\n",
       "      <td>960000.0</td>\n",
       "      <td>t</td>\n",
       "      <td>0</td>\n",
       "      <td>no.</td>\n",
       "    </tr>\n",
       "    <tr>\n",
       "      <th>3</th>\n",
       "      <td>a</td>\n",
       "      <td>48.17</td>\n",
       "      <td>0.000133</td>\n",
       "      <td>u</td>\n",
       "      <td>g</td>\n",
       "      <td>i</td>\n",
       "      <td>o</td>\n",
       "      <td>0.335</td>\n",
       "      <td>f</td>\n",
       "      <td>f</td>\n",
       "      <td>0</td>\n",
       "      <td>f</td>\n",
       "      <td>g</td>\n",
       "      <td>0.0</td>\n",
       "      <td>120</td>\n",
       "      <td>0.0</td>\n",
       "      <td>NaN</td>\n",
       "      <td>0</td>\n",
       "      <td>no.</td>\n",
       "    </tr>\n",
       "    <tr>\n",
       "      <th>4</th>\n",
       "      <td>b</td>\n",
       "      <td>32.33</td>\n",
       "      <td>0.000350</td>\n",
       "      <td>u</td>\n",
       "      <td>g</td>\n",
       "      <td>k</td>\n",
       "      <td>v</td>\n",
       "      <td>0.500</td>\n",
       "      <td>f</td>\n",
       "      <td>f</td>\n",
       "      <td>0</td>\n",
       "      <td>t</td>\n",
       "      <td>g</td>\n",
       "      <td>232.0</td>\n",
       "      <td>0</td>\n",
       "      <td>2320000.0</td>\n",
       "      <td>f</td>\n",
       "      <td>0</td>\n",
       "      <td>no.</td>\n",
       "    </tr>\n",
       "  </tbody>\n",
       "</table>\n",
       "</div>"
      ],
      "text/plain": [
       "  variable1  variable2  variable3 variable4 variable5 variable6 variable7  \\\n",
       "0         a      17.92   0.000054         u         g         c         v   \n",
       "1         b      16.92   0.000034         y         p         k         v   \n",
       "2         b      31.25   0.000112         u         g        ff        ff   \n",
       "3         a      48.17   0.000133         u         g         i         o   \n",
       "4         b      32.33   0.000350         u         g         k         v   \n",
       "\n",
       "   variable8 variable9 variable10  variable11 variable12 variable13  \\\n",
       "0      1.750         f          t           1          t          g   \n",
       "1      0.290         f          f           0          f          s   \n",
       "2      0.000         f          t           1          f          g   \n",
       "3      0.335         f          f           0          f          g   \n",
       "4      0.500         f          f           0          t          g   \n",
       "\n",
       "   variable14  variable15  variable17 variable18  variable19 classLabel  \n",
       "0        80.0           5    800000.0          t           0        no.  \n",
       "1       200.0           0   2000000.0        NaN           0        no.  \n",
       "2        96.0          19    960000.0          t           0        no.  \n",
       "3         0.0         120         0.0        NaN           0        no.  \n",
       "4       232.0           0   2320000.0          f           0        no.  "
      ]
     },
     "execution_count": 4,
     "metadata": {},
     "output_type": "execute_result"
    }
   ],
   "source": [
    "train_ds.head()"
   ]
  },
  {
   "cell_type": "code",
   "execution_count": 5,
   "metadata": {},
   "outputs": [
    {
     "data": {
      "text/plain": [
       "variable1      object\n",
       "variable2     float64\n",
       "variable3     float64\n",
       "variable4      object\n",
       "variable5      object\n",
       "variable6      object\n",
       "variable7      object\n",
       "variable8     float64\n",
       "variable9      object\n",
       "variable10     object\n",
       "variable11      int64\n",
       "variable12     object\n",
       "variable13     object\n",
       "variable14    float64\n",
       "variable15      int64\n",
       "variable17    float64\n",
       "variable18     object\n",
       "variable19      int64\n",
       "classLabel     object\n",
       "dtype: object"
      ]
     },
     "execution_count": 5,
     "metadata": {},
     "output_type": "execute_result"
    }
   ],
   "source": [
    "train_ds.dtypes"
   ]
  },
  {
   "cell_type": "code",
   "execution_count": 6,
   "metadata": {},
   "outputs": [
    {
     "name": "stdout",
     "output_type": "stream",
     "text": [
      "Numerical Features:\n",
      " ['variable2', 'variable3', 'variable8', 'variable11', 'variable14', 'variable15', 'variable17', 'variable19']\n",
      "Categorical Features:\n",
      " ['variable1', 'variable4', 'variable5', 'variable6', 'variable7', 'variable9', 'variable10', 'variable12', 'variable13', 'variable18', 'classLabel']\n"
     ]
    }
   ],
   "source": [
    "# Getting numeric and categorical features\n",
    "numerical = []\n",
    "categorical = []\n",
    "\n",
    "features = dict(train_ds.dtypes)\n",
    "\n",
    "for feature in features:\n",
    "    if str(features[feature]) == 'object':\n",
    "        categorical.append(feature)\n",
    "    else:\n",
    "        numerical.append(feature)\n",
    "        \n",
    "print('Numerical Features:\\n', numerical)\n",
    "print('Categorical Features:\\n', categorical)"
   ]
  },
  {
   "cell_type": "code",
   "execution_count": 7,
   "metadata": {},
   "outputs": [
    {
     "name": "stdout",
     "output_type": "stream",
     "text": [
      "variable1 :\n",
      "['a' 'b' nan]\n",
      "variable4 :\n",
      "['u' 'y' nan 'l']\n",
      "variable5 :\n",
      "['g' 'p' nan 'gg']\n",
      "variable6 :\n",
      "['c' 'k' 'ff' 'i' 'j' 'q' 'W' 'd' 'm' 'cc' 'aa' 'r' 'x' 'e' nan]\n",
      "variable7 :\n",
      "['v' 'ff' 'o' 'h' 'j' 'bb' 'n' 'z' nan 'dd']\n",
      "variable9 :\n",
      "['f' 't']\n",
      "variable10 :\n",
      "['t' 'f']\n",
      "variable12 :\n",
      "['t' 'f']\n",
      "variable13 :\n",
      "['g' 's' 'p']\n",
      "variable18 :\n",
      "['t' nan 'f']\n",
      "classLabel :\n",
      "['no.' 'yes.']\n"
     ]
    }
   ],
   "source": [
    "# checking the unique values for the categorical features\n",
    "for col in categorical:\n",
    "    print(col, ':')\n",
    "    print(train_ds[col].unique())"
   ]
  },
  {
   "cell_type": "code",
   "execution_count": 8,
   "metadata": {},
   "outputs": [
    {
     "name": "stdout",
     "output_type": "stream",
     "text": [
      "Missing values per column:\n"
     ]
    },
    {
     "data": {
      "text/plain": [
       "variable1       39\n",
       "variable2       39\n",
       "variable3        0\n",
       "variable4       64\n",
       "variable5       64\n",
       "variable6       66\n",
       "variable7       66\n",
       "variable8        0\n",
       "variable9        0\n",
       "variable10       0\n",
       "variable11       0\n",
       "variable12       0\n",
       "variable13       0\n",
       "variable14     100\n",
       "variable15       0\n",
       "variable17     100\n",
       "variable18    2145\n",
       "variable19       0\n",
       "classLabel       0\n",
       "dtype: int64"
      ]
     },
     "execution_count": 8,
     "metadata": {},
     "output_type": "execute_result"
    }
   ],
   "source": [
    "# missing values per column\n",
    "print('Missing values per column:')\n",
    "train_ds.isna().sum()"
   ]
  },
  {
   "cell_type": "markdown",
   "metadata": {},
   "source": [
    "# Preprocessing Pipelinee\n",
    "### Handling Missing Data\n",
    "- `variable18` has a very high number of missing values, 57% -> will be removed\n",
    "- Impute the categorical features with mode\n",
    "- Impute the numerical features with median\n",
    "\n",
    "### Encoding the Categorical Features\n",
    "- Categorical features -> Onehotencoder\n",
    "- Target Column -> Label encoding"
   ]
  },
  {
   "cell_type": "code",
   "execution_count": 9,
   "metadata": {},
   "outputs": [],
   "source": [
    "# drop variable18\n",
    "train_ds.drop('variable18', axis=1, inplace=True)\n",
    "if 'variable18' in categorical: categorical.remove('variable18')"
   ]
  },
  {
   "cell_type": "code",
   "execution_count": 10,
   "metadata": {},
   "outputs": [],
   "source": [
    "target_col = ['classLabel']\n",
    "# remove the target column from the categorical list\n",
    "if 'classLabel' in categorical: categorical.remove('classLabel')"
   ]
  },
  {
   "cell_type": "code",
   "execution_count": 11,
   "metadata": {},
   "outputs": [],
   "source": [
    "num_pipeline = Pipeline([\n",
    "    ('impute', SimpleImputer(strategy='median')),\n",
    "    ('scale', StandardScaler())\n",
    "])\n",
    "\n",
    "cat_pipeline = Pipeline([\n",
    "    ('impute', SimpleImputer(strategy='most_frequent')),\n",
    "    ('onehot', OneHotEncoder(handle_unknown='ignore'))\n",
    "])"
   ]
  },
  {
   "cell_type": "code",
   "execution_count": 12,
   "metadata": {},
   "outputs": [],
   "source": [
    "numerical.remove('variable19')\n",
    "preprocess_pipeline = ColumnTransformer([\n",
    "    ('numeric', num_pipeline, numerical),\n",
    "    ('categoric', cat_pipeline, categorical)\n",
    "], remainder='passthrough')\n",
    "\n",
    "labelencoder = LabelEncoder()"
   ]
  },
  {
   "cell_type": "code",
   "execution_count": 13,
   "metadata": {},
   "outputs": [],
   "source": [
    "train_y = train_ds.classLabel\n",
    "train_ds_x = train_ds.drop('classLabel', axis=1)\n",
    "X_train = preprocess_pipeline.fit_transform(train_ds_x)\n",
    "y_train = labelencoder.fit_transform(train_y)"
   ]
  },
  {
   "cell_type": "code",
   "execution_count": 14,
   "metadata": {},
   "outputs": [
    {
     "data": {
      "text/plain": [
       "(276, 3424)"
      ]
     },
     "execution_count": 14,
     "metadata": {},
     "output_type": "execute_result"
    },
    {
     "data": {
      "image/png": "[encoded data removed]",
      "text/plain": [
       "<Figure size 432x288 with 1 Axes>"
      ]
     },
     "metadata": {
      "needs_background": "light"
     },
     "output_type": "display_data"
    }
   ],
   "source": [
    "# the ratio of the target class\n",
    "plt.hist(y_train)\n",
    "plt.title(\"The Target Class Ratio\")\n",
    "plt.plot()\n",
    "(y_train==0).sum(), (y_train==1).sum()"
   ]
  },
  {
   "cell_type": "code",
   "execution_count": 15,
   "metadata": {},
   "outputs": [
    {
     "data": {
      "text/plain": [
       "0.9254054054054054"
      ]
     },
     "execution_count": 15,
     "metadata": {},
     "output_type": "execute_result"
    }
   ],
   "source": [
    "3424/train_ds.shape[0]"
   ]
  },
  {
   "cell_type": "code",
   "execution_count": 16,
   "metadata": {},
   "outputs": [
    {
     "data": {
      "text/plain": [
       "(3700, 48)"
      ]
     },
     "execution_count": 16,
     "metadata": {},
     "output_type": "execute_result"
    }
   ],
   "source": [
    "X_train.shape"
   ]
  },
  {
   "cell_type": "code",
   "execution_count": 17,
   "metadata": {},
   "outputs": [
    {
     "data": {
      "text/plain": [
       "(3700, 18)"
      ]
     },
     "execution_count": 17,
     "metadata": {},
     "output_type": "execute_result"
    }
   ],
   "source": [
    "train_ds.shape"
   ]
  },
  {
   "cell_type": "markdown",
   "metadata": {},
   "source": [
    "# Transfrom the validationset "
   ]
  },
  {
   "cell_type": "code",
   "execution_count": 18,
   "metadata": {},
   "outputs": [],
   "source": [
    "# drop variable18\n",
    "valid_ds.drop('variable18', axis=1, inplace=True)\n",
    "\n",
    "valid_y = valid_ds.classLabel\n",
    "valid_ds_x = valid_ds.drop('classLabel', axis=1)\n",
    "X_valid = preprocess_pipeline.transform(valid_ds_x)\n",
    "y_valid = labelencoder.fit_transform(valid_y)"
   ]
  },
  {
   "cell_type": "code",
   "execution_count": 19,
   "metadata": {},
   "outputs": [
    {
     "data": {
      "text/plain": [
       "(107, 93)"
      ]
     },
     "execution_count": 19,
     "metadata": {},
     "output_type": "execute_result"
    }
   ],
   "source": [
    "# the ratio of the target class\n",
    "(y_valid==0).sum(), (y_valid==1).sum()"
   ]
  },
  {
   "cell_type": "markdown",
   "metadata": {},
   "source": [
    "# Choosing the Performance Metrics \n",
    "- As the data is imbalanced, I'm not going to depend mainly on `accuracy` as my performance metrics\n",
    "- But I will also be using the confusion matrix, precission, recall and F1 as it will yield in better understanding"
   ]
  },
  {
   "cell_type": "markdown",
   "metadata": {},
   "source": [
    "# Training different models"
   ]
  },
  {
   "cell_type": "code",
   "execution_count": 20,
   "metadata": {},
   "outputs": [],
   "source": [
    "def show_results(model, x, y):\n",
    "    \n",
    "    # making prediction\n",
    "    predicted = pd.DataFrame(model.predict(x))    \n",
    "    # performance metrics\n",
    "    accuracy = metrics.accuracy_score(y, predicted)       \n",
    "    precision = metrics.precision_score(y, predicted, pos_label=1)\n",
    "    recall = metrics.recall_score(y, predicted, pos_label=1)\n",
    "    f1 = metrics.f1_score(y, predicted, pos_label=1)\n",
    "\n",
    "    print(f'Accuracy: {accuracy}')\n",
    "    print(f'Precision: {precision}')\n",
    "    print(f'Recall: {recall}')\n",
    "    print(f'F1: {f1}')\n",
    "    plot_cm(model, x, y)\n",
    "    return accuracy, precision, recall, f1\n",
    "def plot_cm(model, x, y):\n",
    "    metrics.plot_confusion_matrix(model, x, y)\n",
    "    plt.plot()"
   ]
  },
  {
   "cell_type": "code",
   "execution_count": 21,
   "metadata": {},
   "outputs": [
    {
     "name": "stdout",
     "output_type": "stream",
     "text": [
      "Training Accuracy: 1.0\n",
      "____________________\n",
      "Validation Results\n",
      "Accuracy: 0.5\n",
      "Precision: 0.46534653465346537\n",
      "Recall: 0.5053763440860215\n",
      "F1: 0.48453608247422686\n"
     ]
    },
    {
     "data": {
      "image/png": "[encoded data removed]",
      "text/plain": [
       "<Figure size 432x288 with 2 Axes>"
      ]
     },
     "metadata": {
      "needs_background": "light"
     },
     "output_type": "display_data"
    }
   ],
   "source": [
    "# SVC\n",
    "svm_model = SVC(probability=True)\n",
    "svm_model = svm_model.fit(X_train, y_train)\n",
    "\n",
    "svm_acc_t = metrics.accuracy_score(y_train, svm_model.predict(X_train))\n",
    "print(f'Training Accuracy: {svm_acc_t}')\n",
    "print('_'*20)\n",
    "print('Validation Results')\n",
    "svm_acc, svm_precision, svm_recall, svm_f1 = show_results(svm_model, X_valid, y_valid)"
   ]
  },
  {
   "cell_type": "code",
   "execution_count": 22,
   "metadata": {},
   "outputs": [
    {
     "name": "stdout",
     "output_type": "stream",
     "text": [
      "Training Accuracy: 0.9981081081081081\n",
      "____________________\n",
      "Validation Results\n",
      "Accuracy: 0.55\n",
      "Precision: 0.5172413793103449\n",
      "Recall: 0.4838709677419355\n",
      "F1: 0.5000000000000001\n"
     ]
    },
    {
     "data": {
      "image/png": "[encoded data removed]",
      "text/plain": [
       "<Figure size 432x288 with 2 Axes>"
      ]
     },
     "metadata": {
      "needs_background": "light"
     },
     "output_type": "display_data"
    }
   ],
   "source": [
    "# Decision Tree\n",
    "tree_model = DecisionTreeClassifier()\n",
    "parameters_dt = {\"criterion\": [\"gini\", \"entropy\"], \"splitter\": [\"best\", \"random\"], \"max_features\": [\"auto\", \"sqrt\", \"log2\"], 'max_depth': [3, 5, 7]}\n",
    "\n",
    "grid_dt = GridSearchCV(tree_model, parameters_dt, scoring=make_scorer(accuracy_score))\n",
    "grid_dt.fit(X_train, y_train)\n",
    "\n",
    "tree_model = grid_dt.best_estimator_\n",
    "\n",
    "tree_acc_t = metrics.accuracy_score(y_train, tree_model.predict(X_train))\n",
    "print(f'Training Accuracy: {tree_acc_t}')\n",
    "print('_'*20)\n",
    "print('Validation Results')\n",
    "tree_acc, tree_precision, tree_recall, tree_f1 = show_results(tree_model, X_valid, y_valid)"
   ]
  },
  {
   "cell_type": "code",
   "execution_count": 23,
   "metadata": {},
   "outputs": [
    {
     "name": "stdout",
     "output_type": "stream",
     "text": [
      "Training Accuracy: 1.0\n",
      "____________________\n",
      "Validation Results\n",
      "Accuracy: 0.5\n",
      "Precision: 0.46464646464646464\n",
      "Recall: 0.4946236559139785\n",
      "F1: 0.47916666666666663\n"
     ]
    },
    {
     "data": {
      "image/png": "[encoded data removed]",
      "text/plain": [
       "<Figure size 432x288 with 2 Axes>"
      ]
     },
     "metadata": {
      "needs_background": "light"
     },
     "output_type": "display_data"
    }
   ],
   "source": [
    "# Random Forest\n",
    "rf_model = RandomForestClassifier()\n",
    "parameters_rf = {\"n_estimators\": [4, 5, 6, 7, 8, 9, 10, 15], \"criterion\": [\"gini\", \"entropy\"], \"max_features\": [\"auto\", \"sqrt\", \"log2\"], \n",
    "                 \"max_depth\": [2, 3, 5, 10], \"min_samples_split\": [2, 3, 5, 10]}\n",
    "\n",
    "grid_rf = GridSearchCV(rf_model, parameters_rf, scoring=make_scorer(accuracy_score))\n",
    "grid_rf.fit(X_train, y_train)\n",
    "\n",
    "rf_model = grid_rf.best_estimator_\n",
    "rf_model.fit(X_train, y_train)\n",
    "\n",
    "rf_acc_t = metrics.accuracy_score(y_train, rf_model.predict(X_train))\n",
    "print(f'Training Accuracy: {rf_acc_t}')\n",
    "print('_'*20)\n",
    "print('Validation Results')\n",
    "rf_acc, rf_precision, rf_recall, rf_f1 = show_results(rf_model, X_valid, y_valid)"
   ]
  },
  {
   "cell_type": "code",
   "execution_count": 24,
   "metadata": {},
   "outputs": [
    {
     "name": "stdout",
     "output_type": "stream",
     "text": [
      "Training Accuracy: 1.0\n",
      "____________________\n",
      "Validation Results\n",
      "Accuracy: 0.74\n",
      "Precision: 0.7070707070707071\n",
      "Recall: 0.7526881720430108\n",
      "F1: 0.7291666666666666\n"
     ]
    },
    {
     "data": {
      "image/png": "[encoded data removed]",
      "text/plain": [
       "<Figure size 432x288 with 2 Axes>"
      ]
     },
     "metadata": {
      "needs_background": "light"
     },
     "output_type": "display_data"
    }
   ],
   "source": [
    "# KNN\n",
    "knn_model = KNeighborsClassifier()\n",
    "parameters_knn = {\"n_neighbors\": [2, 3, 5, 10, 15], \"weights\": [\"uniform\", \"distance\"], \"algorithm\": [\"auto\", \"ball_tree\", \"kd_tree\"],\n",
    "                  \"leaf_size\": [5 ,10, 20, 30, 50]}\n",
    "\n",
    "grid_knn = GridSearchCV(knn_model, parameters_knn, scoring=make_scorer(precision_score))\n",
    "grid_knn.fit(X_train, y_train)\n",
    "\n",
    "knn_model = grid_knn.best_estimator_\n",
    "\n",
    "knn_acc_t = metrics.accuracy_score(y_train, knn_model.predict(X_train))\n",
    "print(f'Training Accuracy: {knn_acc_t}')\n",
    "print('_'*20)\n",
    "print('Validation Results')\n",
    "knn_acc, knn_precision, knn_recall, knn_f1 = show_results(knn_model, X_valid, y_valid)"
   ]
  },
  {
   "cell_type": "code",
   "execution_count": 25,
   "metadata": {},
   "outputs": [
    {
     "name": "stdout",
     "output_type": "stream",
     "text": [
      "Training Accuracy: 1.0\n",
      "____________________\n",
      "Validation Results\n",
      "Accuracy: 0.495\n",
      "Precision: 0.46\n",
      "Recall: 0.4946236559139785\n",
      "F1: 0.4766839378238342\n"
     ]
    },
    {
     "data": {
      "image/png": "[encoded data removed]",
      "text/plain": [
       "<Figure size 432x288 with 2 Axes>"
      ]
     },
     "metadata": {
      "needs_background": "light"
     },
     "output_type": "display_data"
    }
   ],
   "source": [
    "# XGBoost\n",
    "from xgboost import XGBClassifier\n",
    "\n",
    "xg_model = XGBClassifier()\n",
    "\n",
    "parameters_xg = {\"n_estimators\" : [5, 10, 15, 20]}\n",
    "\n",
    "grid_xg = GridSearchCV(xg_model, parameters_xg, scoring=make_scorer(precision_score))\n",
    "grid_xg.fit(X_train, y_train)\n",
    "\n",
    "xg_model = grid_xg.best_estimator_\n",
    "\n",
    "xg_acc_t = metrics.accuracy_score(y_train, xg_model.predict(X_train))\n",
    "print(f'Training Accuracy: {rf_acc_t}')\n",
    "print('_'*20)\n",
    "print('Validation Results')\n",
    "xg_acc, xg_precision, xg_recall, xg_f1 = show_results(xg_model, X_valid, y_valid)"
   ]
  },
  {
   "cell_type": "code",
   "execution_count": 26,
   "metadata": {},
   "outputs": [],
   "source": [
    "# Model comparison\n",
    "models = pd.DataFrame({\n",
    "  'Model': [ 'D.Tree', 'RF', 'SVM', 'kNN', 'XG'], \n",
    "  'Train Acc': [tree_acc_t, rf_acc_t, svm_acc_t, knn_acc_t, xg_acc_t],  \n",
    "  'Accuracy' : [tree_acc, rf_acc, svm_acc, knn_acc, xg_acc],\n",
    "  'Precision': [tree_precision, rf_precision, svm_precision, knn_precision, xg_precision],\n",
    "  'recall' : [tree_recall, rf_recall, svm_recall, knn_recall, xg_recall],\n",
    "  'F1' : [tree_f1, rf_f1, svm_f1, knn_f1, xg_f1]\n",
    "})"
   ]
  },
  {
   "cell_type": "code",
   "execution_count": 27,
   "metadata": {},
   "outputs": [
    {
     "data": {
      "text/html": [
       "<div>\n",
       "<style scoped>\n",
       "    .dataframe tbody tr th:only-of-type {\n",
       "        vertical-align: middle;\n",
       "    }\n",
       "\n",
       "    .dataframe tbody tr th {\n",
       "        vertical-align: top;\n",
       "    }\n",
       "\n",
       "    .dataframe thead th {\n",
       "        text-align: right;\n",
       "    }\n",
       "</style>\n",
       "<table border=\"1\" class=\"dataframe\">\n",
       "  <thead>\n",
       "    <tr style=\"text-align: right;\">\n",
       "      <th></th>\n",
       "      <th>Model</th>\n",
       "      <th>Train Acc</th>\n",
       "      <th>Accuracy</th>\n",
       "      <th>Precision</th>\n",
       "      <th>recall</th>\n",
       "      <th>F1</th>\n",
       "    </tr>\n",
       "  </thead>\n",
       "  <tbody>\n",
       "    <tr>\n",
       "      <th>3</th>\n",
       "      <td>kNN</td>\n",
       "      <td>1.000000</td>\n",
       "      <td>0.740</td>\n",
       "      <td>0.707071</td>\n",
       "      <td>0.752688</td>\n",
       "      <td>0.729167</td>\n",
       "    </tr>\n",
       "    <tr>\n",
       "      <th>0</th>\n",
       "      <td>D.Tree</td>\n",
       "      <td>0.998108</td>\n",
       "      <td>0.550</td>\n",
       "      <td>0.517241</td>\n",
       "      <td>0.483871</td>\n",
       "      <td>0.500000</td>\n",
       "    </tr>\n",
       "    <tr>\n",
       "      <th>1</th>\n",
       "      <td>RF</td>\n",
       "      <td>1.000000</td>\n",
       "      <td>0.500</td>\n",
       "      <td>0.464646</td>\n",
       "      <td>0.494624</td>\n",
       "      <td>0.479167</td>\n",
       "    </tr>\n",
       "    <tr>\n",
       "      <th>2</th>\n",
       "      <td>SVM</td>\n",
       "      <td>1.000000</td>\n",
       "      <td>0.500</td>\n",
       "      <td>0.465347</td>\n",
       "      <td>0.505376</td>\n",
       "      <td>0.484536</td>\n",
       "    </tr>\n",
       "    <tr>\n",
       "      <th>4</th>\n",
       "      <td>XG</td>\n",
       "      <td>1.000000</td>\n",
       "      <td>0.495</td>\n",
       "      <td>0.460000</td>\n",
       "      <td>0.494624</td>\n",
       "      <td>0.476684</td>\n",
       "    </tr>\n",
       "  </tbody>\n",
       "</table>\n",
       "</div>"
      ],
      "text/plain": [
       "    Model  Train Acc  Accuracy  Precision    recall        F1\n",
       "3     kNN   1.000000     0.740   0.707071  0.752688  0.729167\n",
       "0  D.Tree   0.998108     0.550   0.517241  0.483871  0.500000\n",
       "1      RF   1.000000     0.500   0.464646  0.494624  0.479167\n",
       "2     SVM   1.000000     0.500   0.465347  0.505376  0.484536\n",
       "4      XG   1.000000     0.495   0.460000  0.494624  0.476684"
      ]
     },
     "execution_count": 27,
     "metadata": {},
     "output_type": "execute_result"
    }
   ],
   "source": [
    "models.sort_values('Accuracy', ascending=False)"
   ]
  },
  {
   "cell_type": "markdown",
   "metadata": {},
   "source": [
    "# Avoiding overfitting \n",
    "- Concatinating the training and validation datasets"
   ]
  },
  {
   "cell_type": "code",
   "execution_count": 28,
   "metadata": {},
   "outputs": [],
   "source": [
    "# \n",
    "data = pd.concat([train_ds, valid_ds])"
   ]
  },
  {
   "cell_type": "code",
   "execution_count": 29,
   "metadata": {},
   "outputs": [
    {
     "data": {
      "text/html": [
       "<div>\n",
       "<style scoped>\n",
       "    .dataframe tbody tr th:only-of-type {\n",
       "        vertical-align: middle;\n",
       "    }\n",
       "\n",
       "    .dataframe tbody tr th {\n",
       "        vertical-align: top;\n",
       "    }\n",
       "\n",
       "    .dataframe thead th {\n",
       "        text-align: right;\n",
       "    }\n",
       "</style>\n",
       "<table border=\"1\" class=\"dataframe\">\n",
       "  <thead>\n",
       "    <tr style=\"text-align: right;\">\n",
       "      <th></th>\n",
       "      <th>variable1</th>\n",
       "      <th>variable2</th>\n",
       "      <th>variable3</th>\n",
       "      <th>variable4</th>\n",
       "      <th>variable5</th>\n",
       "      <th>variable6</th>\n",
       "      <th>variable7</th>\n",
       "      <th>variable8</th>\n",
       "      <th>variable9</th>\n",
       "      <th>variable10</th>\n",
       "      <th>variable11</th>\n",
       "      <th>variable12</th>\n",
       "      <th>variable13</th>\n",
       "      <th>variable14</th>\n",
       "      <th>variable15</th>\n",
       "      <th>variable17</th>\n",
       "      <th>variable19</th>\n",
       "      <th>classLabel</th>\n",
       "    </tr>\n",
       "  </thead>\n",
       "  <tbody>\n",
       "    <tr>\n",
       "      <th>0</th>\n",
       "      <td>a</td>\n",
       "      <td>17.92</td>\n",
       "      <td>0.000054</td>\n",
       "      <td>u</td>\n",
       "      <td>g</td>\n",
       "      <td>c</td>\n",
       "      <td>v</td>\n",
       "      <td>1.750</td>\n",
       "      <td>f</td>\n",
       "      <td>t</td>\n",
       "      <td>1</td>\n",
       "      <td>t</td>\n",
       "      <td>g</td>\n",
       "      <td>80.0</td>\n",
       "      <td>5</td>\n",
       "      <td>800000.0</td>\n",
       "      <td>0</td>\n",
       "      <td>no.</td>\n",
       "    </tr>\n",
       "    <tr>\n",
       "      <th>1</th>\n",
       "      <td>b</td>\n",
       "      <td>16.92</td>\n",
       "      <td>0.000034</td>\n",
       "      <td>y</td>\n",
       "      <td>p</td>\n",
       "      <td>k</td>\n",
       "      <td>v</td>\n",
       "      <td>0.290</td>\n",
       "      <td>f</td>\n",
       "      <td>f</td>\n",
       "      <td>0</td>\n",
       "      <td>f</td>\n",
       "      <td>s</td>\n",
       "      <td>200.0</td>\n",
       "      <td>0</td>\n",
       "      <td>2000000.0</td>\n",
       "      <td>0</td>\n",
       "      <td>no.</td>\n",
       "    </tr>\n",
       "    <tr>\n",
       "      <th>2</th>\n",
       "      <td>b</td>\n",
       "      <td>31.25</td>\n",
       "      <td>0.000112</td>\n",
       "      <td>u</td>\n",
       "      <td>g</td>\n",
       "      <td>ff</td>\n",
       "      <td>ff</td>\n",
       "      <td>0.000</td>\n",
       "      <td>f</td>\n",
       "      <td>t</td>\n",
       "      <td>1</td>\n",
       "      <td>f</td>\n",
       "      <td>g</td>\n",
       "      <td>96.0</td>\n",
       "      <td>19</td>\n",
       "      <td>960000.0</td>\n",
       "      <td>0</td>\n",
       "      <td>no.</td>\n",
       "    </tr>\n",
       "    <tr>\n",
       "      <th>3</th>\n",
       "      <td>a</td>\n",
       "      <td>48.17</td>\n",
       "      <td>0.000133</td>\n",
       "      <td>u</td>\n",
       "      <td>g</td>\n",
       "      <td>i</td>\n",
       "      <td>o</td>\n",
       "      <td>0.335</td>\n",
       "      <td>f</td>\n",
       "      <td>f</td>\n",
       "      <td>0</td>\n",
       "      <td>f</td>\n",
       "      <td>g</td>\n",
       "      <td>0.0</td>\n",
       "      <td>120</td>\n",
       "      <td>0.0</td>\n",
       "      <td>0</td>\n",
       "      <td>no.</td>\n",
       "    </tr>\n",
       "    <tr>\n",
       "      <th>4</th>\n",
       "      <td>b</td>\n",
       "      <td>32.33</td>\n",
       "      <td>0.000350</td>\n",
       "      <td>u</td>\n",
       "      <td>g</td>\n",
       "      <td>k</td>\n",
       "      <td>v</td>\n",
       "      <td>0.500</td>\n",
       "      <td>f</td>\n",
       "      <td>f</td>\n",
       "      <td>0</td>\n",
       "      <td>t</td>\n",
       "      <td>g</td>\n",
       "      <td>232.0</td>\n",
       "      <td>0</td>\n",
       "      <td>2320000.0</td>\n",
       "      <td>0</td>\n",
       "      <td>no.</td>\n",
       "    </tr>\n",
       "  </tbody>\n",
       "</table>\n",
       "</div>"
      ],
      "text/plain": [
       "  variable1  variable2  variable3 variable4 variable5 variable6 variable7  \\\n",
       "0         a      17.92   0.000054         u         g         c         v   \n",
       "1         b      16.92   0.000034         y         p         k         v   \n",
       "2         b      31.25   0.000112         u         g        ff        ff   \n",
       "3         a      48.17   0.000133         u         g         i         o   \n",
       "4         b      32.33   0.000350         u         g         k         v   \n",
       "\n",
       "   variable8 variable9 variable10  variable11 variable12 variable13  \\\n",
       "0      1.750         f          t           1          t          g   \n",
       "1      0.290         f          f           0          f          s   \n",
       "2      0.000         f          t           1          f          g   \n",
       "3      0.335         f          f           0          f          g   \n",
       "4      0.500         f          f           0          t          g   \n",
       "\n",
       "   variable14  variable15  variable17  variable19 classLabel  \n",
       "0        80.0           5    800000.0           0        no.  \n",
       "1       200.0           0   2000000.0           0        no.  \n",
       "2        96.0          19    960000.0           0        no.  \n",
       "3         0.0         120         0.0           0        no.  \n",
       "4       232.0           0   2320000.0           0        no.  "
      ]
     },
     "execution_count": 29,
     "metadata": {},
     "output_type": "execute_result"
    }
   ],
   "source": [
    "data.head()"
   ]
  },
  {
   "cell_type": "code",
   "execution_count": 30,
   "metadata": {},
   "outputs": [
    {
     "data": {
      "text/plain": [
       "(3900, 18)"
      ]
     },
     "execution_count": 30,
     "metadata": {},
     "output_type": "execute_result"
    }
   ],
   "source": [
    "data.shape"
   ]
  },
  {
   "cell_type": "code",
   "execution_count": 31,
   "metadata": {},
   "outputs": [],
   "source": [
    "from sklearn.model_selection import train_test_split"
   ]
  },
  {
   "cell_type": "code",
   "execution_count": 32,
   "metadata": {},
   "outputs": [],
   "source": [
    "X_train, X_valid, y_train, y_valid = train_test_split(data.drop('classLabel', axis=1), data.classLabel, test_size=0.2, random_state=42)"
   ]
  },
  {
   "cell_type": "code",
   "execution_count": 33,
   "metadata": {},
   "outputs": [],
   "source": [
    "X_train = preprocess_pipeline.fit_transform(X_train)\n",
    "y_train = labelencoder.fit_transform(y_train)"
   ]
  },
  {
   "cell_type": "code",
   "execution_count": 34,
   "metadata": {},
   "outputs": [],
   "source": [
    "X_valid = preprocess_pipeline.transform(X_valid)\n",
    "y_valid = labelencoder.transform(y_valid)"
   ]
  },
  {
   "cell_type": "code",
   "execution_count": 35,
   "metadata": {},
   "outputs": [
    {
     "name": "stdout",
     "output_type": "stream",
     "text": [
      "Training Accuracy: 0.9948717948717949\n",
      "____________________\n",
      "Validation Results\n",
      "Accuracy: 0.9782051282051282\n",
      "Precision: 0.9784172661870504\n",
      "Recall: 0.9970674486803519\n",
      "F1: 0.9876543209876543\n"
     ]
    },
    {
     "data": {
      "image/png": "[encoded data removed]",
      "text/plain": [
       "<Figure size 432x288 with 2 Axes>"
      ]
     },
     "metadata": {
      "needs_background": "light"
     },
     "output_type": "display_data"
    }
   ],
   "source": [
    "# KNN\n",
    "knn_model = KNeighborsClassifier()\n",
    "parameters_knn = {\"n_neighbors\": [2, 3, 5, 10, 15], \"weights\": [\"uniform\", \"distance\"], \"algorithm\": [\"auto\", \"ball_tree\", \"kd_tree\"],\n",
    "                  \"leaf_size\": [5 ,10, 20, 30, 50]}\n",
    "\n",
    "grid_knn = GridSearchCV(knn_model, parameters_knn, scoring=make_scorer(precision_score))\n",
    "grid_knn.fit(X_train, y_train)\n",
    "\n",
    "knn_model = grid_knn.best_estimator_\n",
    "\n",
    "knn_acc_t = metrics.accuracy_score(y_train, knn_model.predict(X_train))\n",
    "print(f'Training Accuracy: {knn_acc_t}')\n",
    "print('_'*20)\n",
    "print('Validation Results')\n",
    "knn_acc, knn_precision, knn_recall, knn_f1 = show_results(knn_model, X_valid, y_valid)"
   ]
  },
  {
   "cell_type": "code",
   "execution_count": 36,
   "metadata": {},
   "outputs": [
    {
     "name": "stdout",
     "output_type": "stream",
     "text": [
      "Training Accuracy: 1.0\n",
      "____________________\n",
      "Validation Results\n",
      "Accuracy: 0.985897435897436\n",
      "Precision: 0.9855282199710564\n",
      "Recall: 0.998533724340176\n",
      "F1: 0.9919883466860888\n"
     ]
    },
    {
     "data": {
      "image/png": "[encoded data removed]",
      "text/plain": [
       "<Figure size 432x288 with 2 Axes>"
      ]
     },
     "metadata": {
      "needs_background": "light"
     },
     "output_type": "display_data"
    }
   ],
   "source": [
    "# Random Forest\n",
    "rf_model = RandomForestClassifier()\n",
    "parameters_rf = {\"n_estimators\": [4, 5, 6, 7, 8, 9, 10, 15, 20], \"criterion\": [\"gini\", \"entropy\"], \"max_features\": [\"auto\", \"sqrt\", \"log2\"], \n",
    "                 \"max_depth\": [2, 3, 5, 10, 15], \"min_samples_split\": [2, 3, 5, 10, 15]}\n",
    "\n",
    "grid_rf = GridSearchCV(rf_model, parameters_rf, scoring=make_scorer(accuracy_score))\n",
    "grid_rf.fit(X_train, y_train)\n",
    "\n",
    "rf_model = grid_rf.best_estimator_\n",
    "rf_model.fit(X_train, y_train)\n",
    "\n",
    "rf_acc_t = metrics.accuracy_score(y_train, rf_model.predict(X_train))\n",
    "print(f'Training Accuracy: {rf_acc_t}')\n",
    "print('_'*20)\n",
    "print('Validation Results')\n",
    "rf_acc, rf_precision, rf_recall, rf_f1 = show_results(rf_model, X_valid, y_valid)"
   ]
  },
  {
   "cell_type": "code",
   "execution_count": 37,
   "metadata": {},
   "outputs": [
    {
     "name": "stdout",
     "output_type": "stream",
     "text": [
      "Training Accuracy: 1.0\n",
      "____________________\n",
      "Validation Results\n",
      "Accuracy: 0.9833333333333333\n",
      "Precision: 0.9826839826839827\n",
      "Recall: 0.998533724340176\n",
      "F1: 0.9905454545454545\n"
     ]
    },
    {
     "data": {
      "image/png": "[encoded data removed]",
      "text/plain": [
       "<Figure size 432x288 with 2 Axes>"
      ]
     },
     "metadata": {
      "needs_background": "light"
     },
     "output_type": "display_data"
    }
   ],
   "source": [
    "# XGBoost\n",
    "from xgboost import XGBClassifier\n",
    "\n",
    "xg_model = XGBClassifier()\n",
    "\n",
    "parameters_xg = {\"n_estimators\" : [5, 10, 15, 20]}\n",
    "\n",
    "grid_xg = GridSearchCV(xg_model, parameters_xg, scoring=make_scorer(precision_score))\n",
    "grid_xg.fit(X_train, y_train)\n",
    "\n",
    "xg_model = grid_xg.best_estimator_\n",
    "\n",
    "xg_acc_t = metrics.accuracy_score(y_train, xg_model.predict(X_train))\n",
    "print(f'Training Accuracy: {rf_acc_t}')\n",
    "print('_'*20)\n",
    "print('Validation Results')\n",
    "xg_acc, xg_precision, xg_recall, xg_f1 = show_results(xg_model, X_valid, y_valid)"
   ]
  },
  {
   "cell_type": "code",
   "execution_count": 38,
   "metadata": {},
   "outputs": [
    {
     "name": "stdout",
     "output_type": "stream",
     "text": [
      "Training Accuracy: 0.9855769230769231\n",
      "____________________\n",
      "Validation Results\n",
      "Accuracy: 0.9769230769230769\n",
      "Precision: 0.978386167146974\n",
      "Recall: 0.9956011730205279\n",
      "F1: 0.9869186046511628\n"
     ]
    },
    {
     "data": {
      "image/png": "[encoded data removed]",
      "text/plain": [
       "<Figure size 432x288 with 2 Axes>"
      ]
     },
     "metadata": {
      "needs_background": "light"
     },
     "output_type": "display_data"
    }
   ],
   "source": [
    "# Decision Tree\n",
    "tree_model = DecisionTreeClassifier()\n",
    "parameters_dt = {\"criterion\": [\"gini\", \"entropy\"], \"splitter\": [\"best\", \"random\"], \"max_features\": [\"auto\", \"sqrt\", \"log2\"], 'max_depth': [3, 5, 7]}\n",
    "\n",
    "grid_dt = GridSearchCV(tree_model, parameters_dt, scoring=make_scorer(accuracy_score))\n",
    "grid_dt.fit(X_train, y_train)\n",
    "\n",
    "tree_model = grid_dt.best_estimator_\n",
    "\n",
    "tree_acc_t = metrics.accuracy_score(y_train, tree_model.predict(X_train))\n",
    "print(f'Training Accuracy: {tree_acc_t}')\n",
    "print('_'*20)\n",
    "print('Validation Results')\n",
    "tree_acc, tree_precision, tree_recall, tree_f1 = show_results(tree_model, X_valid, y_valid)"
   ]
  },
  {
   "cell_type": "code",
   "execution_count": 39,
   "metadata": {},
   "outputs": [],
   "source": [
    "# Model comparison\n",
    "models = pd.DataFrame({\n",
    "  'Model': [ 'D.Tree', 'RF', 'SVM', 'kNN', 'XG'], \n",
    "  'Train Acc': [tree_acc_t, rf_acc_t, svm_acc_t, knn_acc_t, xg_acc_t],  \n",
    "  'Accuracy' : [tree_acc, rf_acc, svm_acc, knn_acc, xg_acc],\n",
    "  'Precision': [tree_precision, rf_precision, svm_precision, knn_precision, xg_precision],\n",
    "  'recall' : [tree_recall, rf_recall, svm_recall, knn_recall, xg_recall],\n",
    "  'F1' : [tree_f1, rf_f1, svm_f1, knn_f1, xg_f1]\n",
    "})"
   ]
  },
  {
   "cell_type": "code",
   "execution_count": 40,
   "metadata": {},
   "outputs": [
    {
     "data": {
      "text/html": [
       "<div>\n",
       "<style scoped>\n",
       "    .dataframe tbody tr th:only-of-type {\n",
       "        vertical-align: middle;\n",
       "    }\n",
       "\n",
       "    .dataframe tbody tr th {\n",
       "        vertical-align: top;\n",
       "    }\n",
       "\n",
       "    .dataframe thead th {\n",
       "        text-align: right;\n",
       "    }\n",
       "</style>\n",
       "<table border=\"1\" class=\"dataframe\">\n",
       "  <thead>\n",
       "    <tr style=\"text-align: right;\">\n",
       "      <th></th>\n",
       "      <th>Model</th>\n",
       "      <th>Train Acc</th>\n",
       "      <th>Accuracy</th>\n",
       "      <th>Precision</th>\n",
       "      <th>recall</th>\n",
       "      <th>F1</th>\n",
       "    </tr>\n",
       "  </thead>\n",
       "  <tbody>\n",
       "    <tr>\n",
       "      <th>1</th>\n",
       "      <td>RF</td>\n",
       "      <td>1.000000</td>\n",
       "      <td>0.985897</td>\n",
       "      <td>0.985528</td>\n",
       "      <td>0.998534</td>\n",
       "      <td>0.991988</td>\n",
       "    </tr>\n",
       "    <tr>\n",
       "      <th>4</th>\n",
       "      <td>XG</td>\n",
       "      <td>0.991346</td>\n",
       "      <td>0.983333</td>\n",
       "      <td>0.982684</td>\n",
       "      <td>0.998534</td>\n",
       "      <td>0.990545</td>\n",
       "    </tr>\n",
       "    <tr>\n",
       "      <th>3</th>\n",
       "      <td>kNN</td>\n",
       "      <td>0.994872</td>\n",
       "      <td>0.978205</td>\n",
       "      <td>0.978417</td>\n",
       "      <td>0.997067</td>\n",
       "      <td>0.987654</td>\n",
       "    </tr>\n",
       "    <tr>\n",
       "      <th>0</th>\n",
       "      <td>D.Tree</td>\n",
       "      <td>0.985577</td>\n",
       "      <td>0.976923</td>\n",
       "      <td>0.978386</td>\n",
       "      <td>0.995601</td>\n",
       "      <td>0.986919</td>\n",
       "    </tr>\n",
       "    <tr>\n",
       "      <th>2</th>\n",
       "      <td>SVM</td>\n",
       "      <td>1.000000</td>\n",
       "      <td>0.500000</td>\n",
       "      <td>0.465347</td>\n",
       "      <td>0.505376</td>\n",
       "      <td>0.484536</td>\n",
       "    </tr>\n",
       "  </tbody>\n",
       "</table>\n",
       "</div>"
      ],
      "text/plain": [
       "    Model  Train Acc  Accuracy  Precision    recall        F1\n",
       "1      RF   1.000000  0.985897   0.985528  0.998534  0.991988\n",
       "4      XG   0.991346  0.983333   0.982684  0.998534  0.990545\n",
       "3     kNN   0.994872  0.978205   0.978417  0.997067  0.987654\n",
       "0  D.Tree   0.985577  0.976923   0.978386  0.995601  0.986919\n",
       "2     SVM   1.000000  0.500000   0.465347  0.505376  0.484536"
      ]
     },
     "execution_count": 40,
     "metadata": {},
     "output_type": "execute_result"
    }
   ],
   "source": [
    "models.sort_values('Accuracy', ascending=False)"
   ]
  }
 ],
 "metadata": {
  "kernelspec": {
   "display_name": "Python 3",
   "language": "python",
   "name": "python3"
  },
  "language_info": {
   "codemirror_mode": {
    "name": "ipython",
    "version": 3
   },
   "file_extension": ".py",
   "mimetype": "text/x-python",
   "name": "python",
   "nbconvert_exporter": "python",
   "pygments_lexer": "ipython3",
   "version": "3.7.6"
  }
 },
 "nbformat": 4,
 "nbformat_minor": 4
}
